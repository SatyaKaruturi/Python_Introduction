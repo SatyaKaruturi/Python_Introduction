{
  "nbformat": 4,
  "nbformat_minor": 0,
  "metadata": {
    "colab": {
      "name": "Satya - Toolbox.ipynb",
      "provenance": [],
      "include_colab_link": true
    },
    "kernelspec": {
      "name": "python3",
      "display_name": "Python 3"
    }
  },
  "cells": [
    {
      "cell_type": "markdown",
      "metadata": {
        "id": "view-in-github",
        "colab_type": "text"
      },
      "source": [
        "<a href=\"https://colab.research.google.com/github/SatyaKaruturi/Python_Introduction/blob/master/Satya_Toolbox.ipynb\" target=\"_parent\"><img src=\"https://colab.research.google.com/assets/colab-badge.svg\" alt=\"Open In Colab\"/></a>"
      ]
    },
    {
      "cell_type": "code",
      "metadata": {
        "id": "ou5G9bBDBA16",
        "colab_type": "code",
        "outputId": "72e1a131-7d29-4954-b2b9-46daada81d78",
        "colab": {
          "base_uri": "https://localhost:8080/",
          "height": 34
        }
      },
      "source": [
        "# Print\n",
        "print(\"Bonjour!\") # Imprime sur le périphérique de sortie standard"
      ],
      "execution_count": 0,
      "outputs": [
        {
          "output_type": "stream",
          "text": [
            "Bonjour!\n"
          ],
          "name": "stdout"
        }
      ]
    },
    {
      "cell_type": "code",
      "metadata": {
        "id": "Dxhgw5frCK_T",
        "colab_type": "code",
        "outputId": "09f58168-857c-45a1-f9da-636a158c3506",
        "colab": {
          "base_uri": "https://localhost:8080/",
          "height": 34
        }
      },
      "source": [
        "a = \"Bonjour!\"\n",
        "len(a)  # Renvoie la longeur de cette chaîne"
      ],
      "execution_count": 0,
      "outputs": [
        {
          "output_type": "execute_result",
          "data": {
            "text/plain": [
              "8"
            ]
          },
          "metadata": {
            "tags": []
          },
          "execution_count": 4
        }
      ]
    },
    {
      "cell_type": "code",
      "metadata": {
        "id": "pirO6XDYRALX",
        "colab_type": "code",
        "outputId": "6b8bd224-2b40-4791-9ac8-4f53f4556daa",
        "colab": {
          "base_uri": "https://localhost:8080/",
          "height": 34
        }
      },
      "source": [
        "abs(4/9) \n",
        "# Renvoie la valeur absolue d'une valeur numérique (par exemple, entier ou float)"
      ],
      "execution_count": 0,
      "outputs": [
        {
          "output_type": "execute_result",
          "data": {
            "text/plain": [
              "0.4444444444444444"
            ]
          },
          "metadata": {
            "tags": []
          },
          "execution_count": 10
        }
      ]
    },
    {
      "cell_type": "code",
      "metadata": {
        "id": "Y96sUZZ9R2uv",
        "colab_type": "code",
        "outputId": "d993fee8-4bd6-4806-f889-20e4ee147d08",
        "colab": {
          "base_uri": "https://localhost:8080/",
          "height": 34
        }
      },
      "source": [
        "round(4/5) # Renvoie la valeur arrondie d'une valeur numérique."
      ],
      "execution_count": 0,
      "outputs": [
        {
          "output_type": "execute_result",
          "data": {
            "text/plain": [
              "1"
            ]
          },
          "metadata": {
            "tags": []
          },
          "execution_count": 12
        }
      ]
    },
    {
      "cell_type": "code",
      "metadata": {
        "id": "BbEO3adYSRKk",
        "colab_type": "code",
        "outputId": "287ff5cf-37fb-4a96-8786-70b1ebc84690",
        "colab": {
          "base_uri": "https://localhost:8080/",
          "height": 34
        }
      },
      "source": [
        "a = [3, 2, 1]\n",
        "\n",
        "sorted(a) # Il trie une liste par ordre croissant. La liste peut contenir des chaînes ou des nombres."
      ],
      "execution_count": 0,
      "outputs": [
        {
          "output_type": "execute_result",
          "data": {
            "text/plain": [
              "[1, 2, 3]"
            ]
          },
          "metadata": {
            "tags": []
          },
          "execution_count": 13
        }
      ]
    },
    {
      "cell_type": "code",
      "metadata": {
        "id": "DPlDAPK1Sn-H",
        "colab_type": "code",
        "outputId": "54e3c476-0a37-4660-ce19-f6f1ad9b5f16",
        "colab": {
          "base_uri": "https://localhost:8080/",
          "height": 34
        }
      },
      "source": [
        "a = True\n",
        "\n",
        "type(a) # Renvoie le type de la variable."
      ],
      "execution_count": 0,
      "outputs": [
        {
          "output_type": "execute_result",
          "data": {
            "text/plain": [
              "bool"
            ]
          },
          "metadata": {
            "tags": []
          },
          "execution_count": 14
        }
      ]
    },
    {
      "cell_type": "code",
      "metadata": {
        "id": "mcf_yicITEUD",
        "colab_type": "code",
        "outputId": "e5b3f460-6973-4457-8691-e8ec776c2d3a",
        "colab": {
          "base_uri": "https://localhost:8080/",
          "height": 50
        }
      },
      "source": [
        "a = str(3.5) # La fonction str () convertit la valeur spécifiée en une chaîne.\n",
        "print(a)\n",
        "type(a)"
      ],
      "execution_count": 0,
      "outputs": [
        {
          "output_type": "stream",
          "text": [
            "3.5\n"
          ],
          "name": "stdout"
        },
        {
          "output_type": "execute_result",
          "data": {
            "text/plain": [
              "str"
            ]
          },
          "metadata": {
            "tags": []
          },
          "execution_count": 17
        }
      ]
    },
    {
      "cell_type": "code",
      "metadata": {
        "id": "-kE7WmtQYXc8",
        "colab_type": "code",
        "outputId": "62e7121f-5a4a-4e1d-dc41-4aa713f4e180",
        "colab": {
          "base_uri": "https://localhost:8080/",
          "height": 34
        }
      },
      "source": [
        "format(0.5, '%') # La fonction format () formate une valeur spécifiée dans un format spécifié."
      ],
      "execution_count": 0,
      "outputs": [
        {
          "output_type": "execute_result",
          "data": {
            "text/plain": [
              "'50.000000%'"
            ]
          },
          "metadata": {
            "tags": []
          },
          "execution_count": 19
        }
      ]
    },
    {
      "cell_type": "code",
      "metadata": {
        "id": "aeC4JQ0EYwsD",
        "colab_type": "code",
        "outputId": "1e5c6e98-6a31-4d15-8ff2-215a074c7046",
        "colab": {
          "base_uri": "https://localhost:8080/",
          "height": 34
        }
      },
      "source": [
        "x = list(('Apple','Banana','Watermelon')) # La fonction list () crée un objet de liste.\n",
        "\n",
        "print(x)"
      ],
      "execution_count": 0,
      "outputs": [
        {
          "output_type": "stream",
          "text": [
            "['Apple', 'Banana', 'Watermelon']\n"
          ],
          "name": "stdout"
        }
      ]
    },
    {
      "cell_type": "code",
      "metadata": {
        "id": "doZMUHk-ZSpB",
        "colab_type": "code",
        "outputId": "f2b57fc3-6e4e-46cd-c99a-677eb9220c50",
        "colab": {
          "base_uri": "https://localhost:8080/",
          "height": 34
        }
      },
      "source": [
        "b = tuple(('Apple','Banana','Watermelon')) # La fonction tuple () crée un objet de tuple.\n",
        "print(b)"
      ],
      "execution_count": 0,
      "outputs": [
        {
          "output_type": "stream",
          "text": [
            "('Apple', 'Banana', 'Watermelon')\n"
          ],
          "name": "stdout"
        }
      ]
    },
    {
      "cell_type": "markdown",
      "metadata": {
        "id": "cqiosVNAcK2_",
        "colab_type": "text"
      },
      "source": [
        "METHODS for python strings , lists and dictionaries"
      ]
    },
    {
      "cell_type": "code",
      "metadata": {
        "id": "pNMgX6zgZ5Mf",
        "colab_type": "code",
        "outputId": "ccb7c80b-d2b1-473a-a1da-f6a39fb99436",
        "colab": {
          "base_uri": "https://localhost:8080/",
          "height": 34
        }
      },
      "source": [
        "a = 'MUG' # Renvoie la version minuscule d'une chaîne.\n",
        "a.lower()"
      ],
      "execution_count": 0,
      "outputs": [
        {
          "output_type": "execute_result",
          "data": {
            "text/plain": [
              "'mug'"
            ]
          },
          "metadata": {
            "tags": []
          },
          "execution_count": 25
        }
      ]
    },
    {
      "cell_type": "code",
      "metadata": {
        "id": "7qvIynwLaTMh",
        "colab_type": "code",
        "outputId": "62b07f57-945c-4ace-d060-544615eaf6af",
        "colab": {
          "base_uri": "https://localhost:8080/",
          "height": 34
        }
      },
      "source": [
        "a = 'Avengers assemble!' \n",
        "a.split(' ') # Divise votre chaîne en une liste."
      ],
      "execution_count": 0,
      "outputs": [
        {
          "output_type": "execute_result",
          "data": {
            "text/plain": [
              "['Avengers', 'assemble!']"
            ]
          },
          "metadata": {
            "tags": []
          },
          "execution_count": 27
        }
      ]
    },
    {
      "cell_type": "code",
      "metadata": {
        "id": "a1EvWs8Ba6WR",
        "colab_type": "code",
        "outputId": "e8a79fba-69ab-4310-9c70-e325501336fe",
        "colab": {
          "base_uri": "https://localhost:8080/",
          "height": 34
        }
      },
      "source": [
        "a = ['Avengers', 'assemble!']\n",
        "\n",
        "' '. join(a)  # Il joint les éléments d'une liste en une chaîne."
      ],
      "execution_count": 0,
      "outputs": [
        {
          "output_type": "execute_result",
          "data": {
            "text/plain": [
              "'Avengers assemble!'"
            ]
          },
          "metadata": {
            "tags": []
          },
          "execution_count": 29
        }
      ]
    },
    {
      "cell_type": "code",
      "metadata": {
        "id": "sAEFKkG7b9kZ",
        "colab_type": "code",
        "outputId": "4a4339b2-48f2-4e30-b581-b635a2a16b3b",
        "colab": {
          "base_uri": "https://localhost:8080/",
          "height": 34
        }
      },
      "source": [
        "text = 'I love movies, movies are great for passing time'\n",
        "\n",
        "result = text.count('movies') # La méthode count () renvoie le nombre de fois qu'une valeur spécifiée apparaît dans la chaîne.\n",
        "\n",
        "print(result)"
      ],
      "execution_count": 0,
      "outputs": [
        {
          "output_type": "stream",
          "text": [
            "2\n"
          ],
          "name": "stdout"
        }
      ]
    },
    {
      "cell_type": "code",
      "metadata": {
        "id": "Mgb6kFPxdIew",
        "colab_type": "code",
        "outputId": "1edb1973-af1a-4665-85f1-a294579add48",
        "colab": {
          "base_uri": "https://localhost:8080/",
          "height": 34
        }
      },
      "source": [
        "a = 'Booc'\n",
        "a.replace('c','k') # Remplace une chaîne donnée par une autre chaîne. Notez qu’il est sensible à la casse."
      ],
      "execution_count": 0,
      "outputs": [
        {
          "output_type": "execute_result",
          "data": {
            "text/plain": [
              "'Book'"
            ]
          },
          "metadata": {
            "tags": []
          },
          "execution_count": 32
        }
      ]
    },
    {
      "cell_type": "code",
      "metadata": {
        "id": "SzP1G2iBd1I2",
        "colab_type": "code",
        "outputId": "1ff3646b-b7b9-4a03-e441-fb708b4ba448",
        "colab": {
          "base_uri": "https://localhost:8080/",
          "height": 34
        }
      },
      "source": [
        "fruits = ['Apple', 'Banana']\n",
        "fruits.append('Water melon') # La méthode .append() ajoute un élément à la fin de notre liste.\n",
        "fruits"
      ],
      "execution_count": 0,
      "outputs": [
        {
          "output_type": "execute_result",
          "data": {
            "text/plain": [
              "['Apple', 'Banana', 'Water melon']"
            ]
          },
          "metadata": {
            "tags": []
          },
          "execution_count": 34
        }
      ]
    },
    {
      "cell_type": "code",
      "metadata": {
        "id": "U8pq8oLQfBv4",
        "colab_type": "code",
        "outputId": "18c65efa-a011-4229-8d01-89f21e3cf3b7",
        "colab": {
          "base_uri": "https://localhost:8080/",
          "height": 34
        }
      },
      "source": [
        "fruits.remove('Banana') # La méthode .remove() supprime un élément spécifié de la liste.\n",
        "fruits"
      ],
      "execution_count": 0,
      "outputs": [
        {
          "output_type": "execute_result",
          "data": {
            "text/plain": [
              "['Apple', 'Water melon']"
            ]
          },
          "metadata": {
            "tags": []
          },
          "execution_count": 35
        }
      ]
    },
    {
      "cell_type": "code",
      "metadata": {
        "id": "JhEz-fV9fdhY",
        "colab_type": "code",
        "outputId": "02085062-9ad7-432c-cba1-0660f336aeef",
        "colab": {
          "base_uri": "https://localhost:8080/",
          "height": 34
        }
      },
      "source": [
        "fruits.clear() # Supprime tous les éléments de la liste.\n",
        "fruits"
      ],
      "execution_count": 0,
      "outputs": [
        {
          "output_type": "execute_result",
          "data": {
            "text/plain": [
              "[]"
            ]
          },
          "metadata": {
            "tags": []
          },
          "execution_count": 37
        }
      ]
    },
    {
      "cell_type": "code",
      "metadata": {
        "id": "TenBpXbZf6E2",
        "colab_type": "code",
        "outputId": "ad71ee3b-446d-4093-ebaf-44cc58f23e98",
        "colab": {
          "base_uri": "https://localhost:8080/",
          "height": 34
        }
      },
      "source": [
        "dog_dict = {'name': 'Freddie',\n",
        "           'age': 9, 'is_vaccinated': True,\n",
        "           'height': 1.1, 'birth_year': 2010,\n",
        "           'belonging': ['bone', 'little ball']}\n",
        "dog_dict.keys() # Renverra toutes les clés de votre dictionnaire."
      ],
      "execution_count": 0,
      "outputs": [
        {
          "output_type": "execute_result",
          "data": {
            "text/plain": [
              "dict_keys(['name', 'age', 'is_vaccinated', 'height', 'birth_year', 'belonging'])"
            ]
          },
          "metadata": {
            "tags": []
          },
          "execution_count": 38
        }
      ]
    },
    {
      "cell_type": "code",
      "metadata": {
        "id": "lH0V8SofhcT8",
        "colab_type": "code",
        "outputId": "b4be266a-b7e1-40fe-a029-090336165af7",
        "colab": {
          "base_uri": "https://localhost:8080/",
          "height": 34
        }
      },
      "source": [
        "dog_dict.values() # Renverra toutes les valeurs de votre dictionnaire."
      ],
      "execution_count": 0,
      "outputs": [
        {
          "output_type": "execute_result",
          "data": {
            "text/plain": [
              "dict_values(['Freddie', 9, True, 1.1, 2010, ['bone', 'little ball']])"
            ]
          },
          "metadata": {
            "tags": []
          },
          "execution_count": 39
        }
      ]
    },
    {
      "cell_type": "code",
      "metadata": {
        "id": "VlAPS_A8huEi",
        "colab_type": "code",
        "colab": {}
      },
      "source": [
        ""
      ],
      "execution_count": 0,
      "outputs": []
    }
  ]
}